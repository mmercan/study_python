{
 "cells": [
  {
   "cell_type": "markdown",
   "metadata": {},
   "source": [
    "### Mean\n",
    "- the mean of a numerical data set is a measure of it's centre\n",
    "- it is also known as the average\n",
    "- it is calculated by adding all the data values and then dividing the sum by the number of data values.\n",
    "- $\\Large\\frac{sum  of  values}{number of values}$\n",
    "\n",
    "### Median\n",
    "\n",
    "- The Median is the middle value when all values are arranged in a numerical order\n",
    "- if there are two middle values, the median is the average of the two middle values\n",
    "\n",
    "\n",
    "### Mode\n",
    "- The mode is the most popular or most common value\n",
    "- it has the highest frequency\n",
    "- there may be more than one mode\n",
    "\n",
    "### Range\n",
    "- the range measures of the spread of the data set\n",
    "- it is the difference between the largest data value and the smallest data value\n",
    "\n",
    "<u>**Outliners**</u> are where one or two values are much samller or larger than the other values on the set.\n",
    "\n",
    "**Which measure of the centre is most useful?**\n",
    "- the <u>mean</u> is appropriate when there are no extreme values or outliners distort the picture \n",
    "- the <u>median</u> is appropriate when outliners are present\n",
    "- the <u>mode</u> is appropriate when the most common result is significant\n",
    "\n",
    "\n",
    "Summary or measures of Centre\n",
    "===\n",
    "\n",
    "\n",
    "\n",
    "<table>\n",
    "<thead>\n",
    "<tr>\n",
    "<th>Mode</th>\n",
    "<th>Median</th>\n",
    "<th>Mean</th>\n",
    "</tr>\n",
    "</thead>\n",
    "<tbody>\n",
    "<tr>\n",
    "<td>The Most common value or category. It tells us nothing about the rest of the data. Data may have no mode or one mode or more than one mode</td>\n",
    "<td>The Score in the exact middle of the value placed in numerical order. It tells us nothing about other values. it is uneffected by outliers</td>\n",
    "<td>Uses all the scores a total, divided by the number of the score. it is affected by outliers </td>\n",
    "</tr>\n",
    "</tbody>\n",
    "</table>"
   ]
  },
  {
   "cell_type": "code",
   "execution_count": 1,
   "metadata": {},
   "outputs": [],
   "source": [
    "import math\n",
    "import numpy as np\n",
    "import pandas as pd\n",
    "from scipy import stats"
   ]
  },
  {
   "cell_type": "code",
   "execution_count": 2,
   "metadata": {},
   "outputs": [
    {
     "name": "stdout",
     "output_type": "stream",
     "text": [
      "Mean :  5.0\n",
      "Median :  4.0\n",
      "Mode :  [4]\n",
      "Range : 15\n",
      "Outliers : [16]\n"
     ]
    },
    {
     "data": {
      "image/png": "[encoded data removed]",
      "text/plain": [
       "<Figure size 432x288 with 1 Axes>"
      ]
     },
     "metadata": {
      "needs_background": "light"
     },
     "output_type": "display_data"
    }
   ],
   "source": [
    "first_ex = np.array([6,2,4,3,1,4,5,4,16,5])\n",
    "\n",
    "print(\"Mean : \",np.mean(first_ex))\n",
    "print(\"Median : \",np.median(first_ex))\n",
    "print(\"Mode : \", stats.mode(first_ex)[0])\n",
    "print(\"Range :\",  np.ptp(first_ex)) # axis can be added for array of arrays\n",
    "\n",
    "\n",
    "def outliers(data, m=2):\n",
    "    return data[abs(data - np.mean(data)) >= m * np.std(data)]\n",
    "\n",
    "print(\"Outliers :\",outliers(first_ex))\n",
    "\n",
    "\n",
    "df = pd.DataFrame(first_ex)\n",
    "df.boxplot();"
   ]
  },
  {
   "cell_type": "markdown",
   "metadata": {},
   "source": [
    "- I can calculate and interpret the mode and range for the set of data **5.3**\n",
    "- I can calculate and interpret the mean and median for the set of data **5.4**\n",
    "- I can explain the effect of individual data values, including outliers, on the range, mean and median **5.5**"
   ]
  },
  {
   "cell_type": "markdown",
   "metadata": {},
   "source": [
    "All answers are to be given correct to decimal place, unless otherwise specified.\n",
    "\n",
    "#### 1- Calculate the mean and mode of each data set"
   ]
  },
  {
   "cell_type": "code",
   "execution_count": 3,
   "metadata": {},
   "outputs": [
    {
     "name": "stdout",
     "output_type": "stream",
     "text": [
      "[ 1  1  3  5  5  5 10]\n",
      "Mean :  4.3\n",
      "Mode :  [5]\n",
      "\n",
      "==========================\n",
      "[ 4  4  4  7  8  8 10 11]\n",
      "Mean :  7.0\n",
      "Mode :  [4]\n"
     ]
    }
   ],
   "source": [
    "\n",
    "first_a_q = np.array([1,1,3,5,5,5,10])\n",
    "first_a_q_mean = np.mean(first_a_q)\n",
    "\n",
    "print(first_a_q)\n",
    "print(\"Mean : \", round(first_a_q_mean,ndigits=1))\n",
    "print(\"Mode : \", stats.mode(first_a_q)[0])\n",
    "\n",
    "print()\n",
    "print(\"==========================\")\n",
    "first_b_q = np.array([4,4,4,7,8,8,10,11])\n",
    "first_b_q_mean = np.mean(first_b_q)\n",
    "\n",
    "print(first_b_q)\n",
    "print(\"Mean : \", round(first_b_q_mean,ndigits=1))\n",
    "print(\"Mode : \", stats.mode(first_b_q)[0])"
   ]
  },
  {
   "cell_type": "markdown",
   "metadata": {},
   "source": [
    "#### 2- In a football season, the number of kicks Kiy made each week was"
   ]
  },
  {
   "cell_type": "code",
   "execution_count": 80,
   "metadata": {},
   "outputs": [
    {
     "name": "stdout",
     "output_type": "stream",
     "text": [
      "[22 16 18 31 10  8 19 16 18 12 10  9 16]\n",
      "average (mean) :  15.8\n"
     ]
    }
   ],
   "source": [
    "second_q = np.array([22,16,18,31,10,8,19,16,18,12,10,9,16])\n",
    "print(second_q)\n",
    "print('average (mean) : ', round(np.mean(second_q),ndigits= 1) )"
   ]
  },
  {
   "cell_type": "markdown",
   "metadata": {},
   "source": [
    "#### 3- In three races Paula recorded the times 25.1 seconds 24.8 and 24.1 seconds.\n",
    "\n",
    "a) What is the mean time of the races ? Round to two decimal places\n",
    "\n",
    "b) Find the median time"
   ]
  },
  {
   "cell_type": "code",
   "execution_count": 5,
   "metadata": {},
   "outputs": [
    {
     "name": "stdout",
     "output_type": "stream",
     "text": [
      "A -  24.67\n",
      "B -  24.8\n"
     ]
    }
   ],
   "source": [
    "third_q = np.array([25.1, 24.8, 24.1])\n",
    "print(\"A - \", round(np.mean(third_q),ndigits=2))\n",
    "print(\"B - \", np.median(third_q))"
   ]
  },
  {
   "cell_type": "markdown",
   "metadata": {},
   "source": [
    "#### 4- Lily obtained the following scores on her first five Maths tests: 92 89 94 82 93\n",
    "\n",
    "A) What is her mean test score \n",
    "\n",
    "B) if there is one more test left to complete, and she wants to achieve an average of at least 85, what is the lowest score Lily can obtain for her final test"
   ]
  },
  {
   "cell_type": "code",
   "execution_count": 17,
   "metadata": {},
   "outputs": [
    {
     "name": "stdout",
     "output_type": "stream",
     "text": [
      "A-  90.0\n",
      "Minimum score required to get average 85 is  60\n"
     ]
    }
   ],
   "source": [
    "fourth_a_q  = np.array([92,89,94,82,93])\n",
    "fourth_a_q_mean = np.mean(fourth_q)\n",
    "\n",
    "print('A- ', round(fourth_q_mean, ndigits=2))\n",
    "\n",
    "fourth_b_q_targeted = (len(fourth_q) +1 ) * 85\n",
    "fourth_b_q_current = sum(fourth_q)\n",
    "\n",
    "print(\"Minimum score required to get average 85 is \", fourth_b_q_targeted- fourth_b_q_current)"
   ]
  },
  {
   "cell_type": "markdown",
   "metadata": {},
   "source": [
    "#### 5- This Data contains six houses prices in Darwin\n",
    "\n",
    "a) Which price would considered the outlier\n",
    "\n",
    "b) If the outlier was removed from the data set, by now how much would the median change ? First work out the median for each case\n",
    "\n",
    "c) If outlier was removed from the dataset by how much would the mean change, to the nearest dollar? first work out the mean for each case."
   ]
  },
  {
   "cell_type": "code",
   "execution_count": 79,
   "metadata": {},
   "outputs": [
    {
     "name": "stdout",
     "output_type": "stream",
     "text": [
      "[ 324000  289000  431000  295000  385000 1700000]\n",
      "\n",
      "A- Price considered the outliers  [1700000]\n",
      "\n",
      "B- Median with outlier 354,500.0 Median without outlier 324,000.0\n",
      "B- Median change 30,500.0\n",
      "\n",
      "C- Mean with outlier 570,666.6666666666 MEan without outlier 344,800.0\n",
      "C- Mean Change 225,867.0\n"
     ]
    }
   ],
   "source": [
    "six_q = np.array([324000, 289000, 431000, 295000, 385000, 1700000])\n",
    "print(six_q)\n",
    "print()\n",
    "outlier = outliers(six_q)\n",
    "if(len(outlier) > 0 ):\n",
    "    print(\"A- Price considered the outliers \", outlier)\n",
    "else:\n",
    "    print(\"A- There is no outliers\")\n",
    "#six_q_index =np.where(six_q == outlier)[0][0]\n",
    "#six_q_removedoutlier = np.delete(six_q,six_q_index)\n",
    "\n",
    "six_q_removedoutlier = np.setdiff1d(six_q,outlier)\n",
    "\n",
    "print()\n",
    "print('B- Median with outlier {:,}'.format(np.median(six_q)) , 'Median without outlier {:,}'.format( np.median(six_q_removedoutlier)))\n",
    "print('B- Median change {:,}'.format(abs(np.median(six_q) - np.median(six_q_removedoutlier))))\n",
    "print()\n",
    "print('C- Mean with outlier {:,}'.format(np.mean(six_q)) , 'MEan without outlier {:,}'.format( np.mean(six_q_removedoutlier)))\n",
    "print('C- Mean Change {:,}'.format(round( abs(np.mean(six_q) - np.mean(six_q_removedoutlier)))))"
   ]
  },
  {
   "cell_type": "markdown",
   "metadata": {},
   "source": [
    "#### 6- The Number of strokes scored on the 18th hole golf course was recorded for a number of golfers. The results are shown opposite.\n",
    "\n",
    "a) How many players had their score recorded ?\n",
    "\n",
    "b) What is the average score ?\n",
    "\n",
    "c) How many players took fewer strokes then the average\n",
    "\n",
    "d) What number of strokes is mode ?\n"
   ]
  },
  {
   "cell_type": "code",
   "execution_count": 108,
   "metadata": {},
   "outputs": [
    {
     "name": "stdout",
     "output_type": "stream",
     "text": [
      "   Strokes  Players  TotalStroke\n",
      "0        2        1            2\n",
      "1        3        6           18\n",
      "2        4       27          108\n",
      "3        5       20          100\n",
      "4        6       10           60\n"
     ]
    }
   ],
   "source": [
    "data_q_6 = {'Strokes':  [2,3,4,5,6,],\n",
    "        'Players': [1,6,27,20,10,],\n",
    "        }\n",
    "print(df_q_6)\n",
    "df_q_6 = pd.DataFrame (data_q_6, columns = ['Strokes','Players'])\n",
    "df_q_6['TotalStroke'] = df_q_6.apply(lambda x : x.Strokes * x.Players, axis=1)\n",
    "\n"
   ]
  },
  {
   "cell_type": "code",
   "execution_count": 124,
   "metadata": {},
   "outputs": [
    {
     "name": "stdout",
     "output_type": "stream",
     "text": [
      "a- 64  players\n",
      "b- average 4.5\n",
      "c- 34\n",
      "d- 4\n"
     ]
    }
   ],
   "source": [
    "print('a-',df_q_6.Players.sum(),' players')\n",
    "average_q_6 = df_q_6.TotalStroke.sum() /df_q_6.Players.sum()\n",
    "print('b- average',average_q_6)\n",
    "print('c-', df_q_6[df_q_6.Strokes < average_q_6 ].Players.sum())\n",
    "print('d-', df_q_6[df_q_6.Players == df_q_6.Players.max()].iloc[0].Strokes)\n"
   ]
  },
  {
   "cell_type": "markdown",
   "metadata": {},
   "source": [
    "#### 7- A dataset has mean of 15. what will happen to the mean (thatis will it decrease or increase) if:\n",
    "a- a data value of 24 is added to the set ?\n",
    "b- a data value of 15 is added to the set ?\n",
    "c- data values of 6 and 25 are added to the set ?"
   ]
  },
  {
   "cell_type": "code",
   "execution_count": null,
   "metadata": {},
   "outputs": [],
   "source": []
  }
 ],
 "metadata": {
  "kernelspec": {
   "display_name": "Python 3",
   "language": "python",
   "name": "python3"
  },
  "language_info": {
   "codemirror_mode": {
    "name": "ipython",
    "version": 3
   },
   "file_extension": ".py",
   "mimetype": "text/x-python",
   "name": "python",
   "nbconvert_exporter": "python",
   "pygments_lexer": "ipython3",
   "version": "3.8.5"
  }
 },
 "nbformat": 4,
 "nbformat_minor": 4
}
