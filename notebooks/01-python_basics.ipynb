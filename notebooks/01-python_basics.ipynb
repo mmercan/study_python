{
 "cells": [
  {
   "cell_type": "markdown",
   "metadata": {},
   "source": [
    "## Basic Types"
   ]
  },
  {
   "cell_type": "code",
   "execution_count": null,
   "metadata": {},
   "outputs": [],
   "source": [
    "int_var = 5\n",
    "int_var\n",
    "type(int_var)"
   ]
  },
  {
   "cell_type": "code",
   "execution_count": null,
   "metadata": {},
   "outputs": [],
   "source": [
    "float_var = 2.5\n",
    "type(float_var)"
   ]
  },
  {
   "cell_type": "code",
   "execution_count": null,
   "metadata": {},
   "outputs": [],
   "source": [
    "string_var = \"hello\"\n",
    "type(string_var)"
   ]
  },
  {
   "cell_type": "code",
   "execution_count": null,
   "metadata": {},
   "outputs": [],
   "source": [
    "bool_var = True\n",
    "type(bool_var)"
   ]
  },
  {
   "cell_type": "code",
   "execution_count": null,
   "metadata": {},
   "outputs": [],
   "source": [
    "some_string_holding_an_int = \"10\"\n",
    "int(some_string_holding_an_int)"
   ]
  },
  {
   "cell_type": "markdown",
   "metadata": {},
   "source": [
    "## BuiltInFunctions"
   ]
  },
  {
   "cell_type": "code",
   "execution_count": null,
   "metadata": {},
   "outputs": [],
   "source": [
    "print(\"Hello John\", \"How are you?\", sep = '\\n', end = \"**\")"
   ]
  },
  {
   "cell_type": "code",
   "execution_count": null,
   "metadata": {},
   "outputs": [],
   "source": [
    "len(\"abc\")"
   ]
  },
  {
   "cell_type": "code",
   "execution_count": null,
   "metadata": {},
   "outputs": [],
   "source": [
    "min(1, 3, 2.4, 5, 3, 6.54, 85, -5)"
   ]
  },
  {
   "cell_type": "code",
   "execution_count": null,
   "metadata": {},
   "outputs": [],
   "source": [
    "max(1, 5, 1, 23, 51752.55, 17, 1, 5, 15, 2, -54, 2, -155)"
   ]
  },
  {
   "cell_type": "code",
   "execution_count": null,
   "metadata": {},
   "outputs": [],
   "source": [
    "abs(-100)"
   ]
  },
  {
   "cell_type": "code",
   "execution_count": null,
   "metadata": {},
   "outputs": [],
   "source": [
    "round(3.141563638,ndigits=3)"
   ]
  },
  {
   "cell_type": "code",
   "execution_count": null,
   "metadata": {},
   "outputs": [],
   "source": [
    "sorted(\"abcdef\", reverse = True)"
   ]
  },
  {
   "cell_type": "code",
   "execution_count": null,
   "metadata": {},
   "outputs": [],
   "source": [
    "string_var = \"HELLO mATT, How are YOU?\"\n",
    "\n",
    "print(string_var.lower())\n",
    "print(string_var.upper())\n",
    "print(string_var.capitalize())"
   ]
  },
  {
   "cell_type": "code",
   "execution_count": null,
   "metadata": {},
   "outputs": [],
   "source": [
    "type(string_var)"
   ]
  },
  {
   "cell_type": "markdown",
   "metadata": {},
   "source": [
    "## List [ ]"
   ]
  },
  {
   "cell_type": "code",
   "execution_count": null,
   "metadata": {},
   "outputs": [],
   "source": [
    "empty_list = []\n",
    "print(type(empty_list))\n",
    "\n",
    "empty_list"
   ]
  },
  {
   "cell_type": "code",
   "execution_count": null,
   "metadata": {},
   "outputs": [],
   "source": [
    "int_list = [1, 5, 4, 3, 2]\n",
    "\n",
    "print(int_list)\n",
    "print(sorted(int_list))\n",
    "\n",
    "string_list=['aa','vv', 'gf', 'y' , 'cc']\n",
    "print(sorted(string_list))"
   ]
  },
  {
   "cell_type": "code",
   "execution_count": null,
   "metadata": {},
   "outputs": [],
   "source": [
    "mixed_list = [5, \"Hello\", True, 2.555]\n",
    "\n",
    "print(mixed_list)\n",
    "\n",
    "print(mixed_list[2])\n",
    "\n",
    "print(len(mixed_list))\n",
    "\n",
    "mixed_list[2] = False\n",
    "\n",
    "print(mixed_list)"
   ]
  },
  {
   "cell_type": "code",
   "execution_count": null,
   "metadata": {},
   "outputs": [],
   "source": [
    "mazda_cars = [\"Mazda CX5\",\"Mazda CX3\",\"Mazda CX30\",\"Mazda 3\"]\n",
    "\n",
    "last_index = len(mazda_cars) - 1\n",
    "print(mazda_cars[last_index])\n",
    "print(mazda_cars[-1])\n",
    "\n",
    "mazda_cars.append(\"Mazda BT50\")\n",
    "print(mazda_cars)\n",
    "\n",
    "mazda_cars.insert(4, \"Mazda CX9\")\n",
    "print(mazda_cars)\n",
    "\n",
    "\n",
    "print(\"index number of Mazda BT50 is\", mazda_cars.index(\"Mazda BT50\"))\n",
    "\n",
    "mazda_cars.remove(\"Mazda BT50\")\n",
    "print(mazda_cars)\n",
    "\n",
    "popped_car = mazda_cars.pop()\n",
    "print('Popped Car', popped_car)\n",
    "print(mazda_cars)"
   ]
  },
  {
   "cell_type": "code",
   "execution_count": null,
   "metadata": {},
   "outputs": [],
   "source": [
    "mazda_cars.sort()\n",
    "mazda_cars"
   ]
  },
  {
   "cell_type": "code",
   "execution_count": null,
   "metadata": {},
   "outputs": [],
   "source": [
    "mazda_cars.reverse()\n",
    "mazda_cars"
   ]
  },
  {
   "cell_type": "code",
   "execution_count": null,
   "metadata": {},
   "outputs": [],
   "source": [
    "totoya_cars=['Hilux', 'Yaris', 'Corollo']\n",
    "\n",
    "cars= mazda_cars + totoya_cars\n",
    "cars"
   ]
  },
  {
   "cell_type": "code",
   "execution_count": null,
   "metadata": {},
   "outputs": [],
   "source": [
    "cars_hard_copy = cars.copy()"
   ]
  },
  {
   "cell_type": "code",
   "execution_count": null,
   "metadata": {},
   "outputs": [],
   "source": [
    "cars_shallow_copy = cars;"
   ]
  },
  {
   "cell_type": "markdown",
   "metadata": {},
   "source": [
    "## Tuples ()"
   ]
  },
  {
   "cell_type": "code",
   "execution_count": null,
   "metadata": {},
   "outputs": [],
   "source": [
    "empty_tuple = ()\n",
    "print(empty_tuple)\n",
    "print(type(empty_tuple))"
   ]
  },
  {
   "cell_type": "code",
   "execution_count": null,
   "metadata": {},
   "outputs": [],
   "source": [
    "dakota_books = (\"Dungeon Born\", \"Dungeon Madness\", \"Dungeon Desolation\")\n",
    "\n",
    "print(type(dakota_books))\n",
    "dakota_books[1:3]"
   ]
  },
  {
   "cell_type": "code",
   "execution_count": null,
   "metadata": {},
   "outputs": [],
   "source": [
    "#convert list to tuple\n",
    "\n",
    "nuts_list = [\"wallnut\", \"peanut\", \"hazelnut\", \"chestnut\"]\n",
    "\n",
    "nuts_tuple = tuple(nuts_list)\n",
    "nuts_tuple"
   ]
  },
  {
   "cell_type": "code",
   "execution_count": null,
   "metadata": {},
   "outputs": [],
   "source": [
    "'wallnut' in nuts_tuple"
   ]
  },
  {
   "cell_type": "markdown",
   "metadata": {},
   "source": []
  },
  {
   "cell_type": "markdown",
   "metadata": {},
   "source": [
    "### Dictionaries {}"
   ]
  },
  {
   "cell_type": "code",
   "execution_count": null,
   "metadata": {},
   "outputs": [],
   "source": [
    "names_and_ages = {\"Matt\" : 40,\"Esra\" : 42,\"Beyza\" : 12,\"Su\" : 15}\n",
    "\n",
    "print(names_and_ages)\n",
    "print(names_and_ages.items())\n",
    "print(names_and_ages.keys())\n",
    "print(names_and_ages.values())\n",
    "print(names_and_ages[\"Matt\"])\n"
   ]
  },
  {
   "cell_type": "code",
   "execution_count": null,
   "metadata": {},
   "outputs": [],
   "source": [
    "names_and_details = {\"Matt\" : ('Mercan',40),\n",
    "                     \"Esra\" : ('Mercan',42),\n",
    "                     \"Beyza\" : ('Mercan',12),\n",
    "                     \"Su\" : ('Mercan',15)}"
   ]
  },
  {
   "cell_type": "code",
   "execution_count": null,
   "metadata": {},
   "outputs": [],
   "source": [
    "names_and_details['Matt']"
   ]
  },
  {
   "cell_type": "markdown",
   "metadata": {},
   "source": [
    "### SET {}"
   ]
  },
  {
   "cell_type": "code",
   "execution_count": null,
   "metadata": {},
   "outputs": [],
   "source": [
    "fruit_set = {\"apple\", \"banana\", \"cherry\"}\n",
    "print(type(fruit_set))\n",
    "\n",
    "print(fruit_set)"
   ]
  },
  {
   "cell_type": "code",
   "execution_count": null,
   "metadata": {},
   "outputs": [],
   "source": [
    "mixed_set = {\"Matt\", \"Mercan\", 40, 3.14, False}\n",
    "\n",
    "print(mixed_set)\n",
    "\n",
    "mixed_set.add(\"Anadolu\")\n",
    "print(mixed_set)\n",
    "\n",
    "mixed_set.discard(\"Anadolu\")\n",
    "print(mixed_set)\n",
    "\n",
    "mixed_set.discard(\"Anadolu\")\n",
    "print(mixed_set)\n",
    "\n",
    "mixed_set.remove(\"Matt\")\n",
    "print(mixed_set)\n",
    "\n",
    "\n",
    "another_set = {\"Brown\", \"Blue\", \"Lucky\", 40}\n",
    "\n",
    "print('union')\n",
    "print(mixed_set.union(another_set))\n",
    "\n",
    "print('intersection')\n",
    "print(mixed_set.intersection(another_set))\n",
    "\n",
    "print('difference')\n",
    "print(mixed_set.difference(another_set))"
   ]
  },
  {
   "cell_type": "markdown",
   "metadata": {},
   "source": [
    "### IF ELSE ELIF"
   ]
  },
  {
   "cell_type": "code",
   "execution_count": null,
   "metadata": {},
   "outputs": [],
   "source": [
    "if 25 > 30:\n",
    "    print(\"25 is greater than 30\")\n",
    "else:\n",
    "    print(\"nope 25 is not greater than 30\")"
   ]
  },
  {
   "cell_type": "code",
   "execution_count": null,
   "metadata": {},
   "outputs": [],
   "source": [
    "math_score = 90\n",
    "\n",
    "if math_score < 0 or math_score > 100:\n",
    "    print('Value has provided is not in the range (0-100)',math_score)\n",
    "elif math_score < 20:\n",
    "    print(\"I'm afraid that is not a great score\", math_score)\n",
    "\n",
    "elif math_score < 50:\n",
    "    print(\"Oh you can definitely do better than this\", math_score)\n",
    "\n",
    "elif math_score < 80:\n",
    "    print(\"Ahh you're close to the highest grade you can get\", math_score)\n",
    "\n",
    "elif math_score <= 100:\n",
    "    print(\"You did great at math!\", math_score)\n",
    "else:\n",
    "    print('you should not be here, Something is wrong',math_score)"
   ]
  },
  {
   "cell_type": "code",
   "execution_count": null,
   "metadata": {},
   "outputs": [],
   "source": [
    "name = 'matt'\n",
    "surname= 'mercan'\n",
    "\n",
    "if name == 'matt' and surname == 'mercan':\n",
    "    print('yes matt')"
   ]
  },
  {
   "cell_type": "markdown",
   "metadata": {},
   "source": [
    "### Loops "
   ]
  },
  {
   "cell_type": "code",
   "execution_count": null,
   "metadata": {},
   "outputs": [],
   "source": [
    "classic_cars = [\"Pierce Arrow\", \"Oldsmobile\", \"Mustang\"]\n",
    "for car in classic_cars:\n",
    "    print(car)"
   ]
  },
  {
   "cell_type": "code",
   "execution_count": null,
   "metadata": {},
   "outputs": [],
   "source": [
    "num_list = [100, 800, 330, 220, 400, 900, 1100]\n",
    "for num in num_list:\n",
    "    if num < 500:\n",
    "        print(\"<500:\", num)\n",
    "    else:\n",
    "        print(\">=500:\", num)"
   ]
  },
  {
   "cell_type": "code",
   "execution_count": null,
   "metadata": {},
   "outputs": [],
   "source": [
    "names_and_ages = {\"John\" : 53,\"Alice\" : 57,\"Bill\" : 14,\"Dave\" : 25}\n",
    "for key in names_and_ages:\n",
    "    print(\"Name: \", key, \"Age: \", names_and_ages[key])"
   ]
  },
  {
   "cell_type": "code",
   "execution_count": null,
   "metadata": {},
   "outputs": [],
   "source": [
    "for key, val in names_and_ages.items():\n",
    "    print(key, val)"
   ]
  },
  {
   "cell_type": "code",
   "execution_count": null,
   "metadata": {},
   "outputs": [],
   "source": [
    "colors = [\"Red\", \"Yellow\", \"Blue\"]\n",
    "materials = {\"Leather\", \"Polyester\", \"Nylon\", \"Cotton\", \"Silk\"}\n",
    "\n",
    "for c in colors:\n",
    "    for m in materials:\n",
    "        print(c, \"<-->\", m)"
   ]
  },
  {
   "cell_type": "markdown",
   "metadata": {},
   "source": [
    "### While"
   ]
  },
  {
   "cell_type": "code",
   "execution_count": null,
   "metadata": {},
   "outputs": [],
   "source": [
    "c = 45\n",
    "\n",
    "while c < 50:\n",
    "    print(c)    \n",
    "    c = c + 1"
   ]
  },
  {
   "cell_type": "code",
   "execution_count": null,
   "metadata": {},
   "outputs": [],
   "source": [
    "vowels = [\"a\", \"e\", \"i\", \"o\", \"u\"]\n",
    "\n",
    "user_input = input(\"Enter a vowel: \")\n",
    "\n",
    "while user_input not in vowels:\n",
    "    print(\"I'm afraid that is not a vowel, try again\")\n",
    "    \n",
    "    user_input = input(\"Enter a vowel: \")\n",
    "    \n",
    "print(\"Thank you for entering a vowel! \", user_input)"
   ]
  },
  {
   "cell_type": "markdown",
   "metadata": {},
   "source": [
    "### Date"
   ]
  },
  {
   "cell_type": "code",
   "execution_count": null,
   "metadata": {},
   "outputs": [],
   "source": [
    "days = {1:\"Monday\", 2:\"Tuesday\", 3:\"Wednesday\", 4:\"Thursday\", 5:\"Friday\", 6:\"Saturday\"}"
   ]
  },
  {
   "cell_type": "code",
   "execution_count": null,
   "metadata": {},
   "outputs": [],
   "source": [
    "import datetime"
   ]
  },
  {
   "cell_type": "code",
   "execution_count": null,
   "metadata": {},
   "outputs": [],
   "source": [
    "today = days[datetime.date.today().isoweekday()]\n",
    "\n",
    "for day in days:\n",
    "    print(\"Checking: \", days[day])\n",
    "    if days[day] == today:\n",
    "        print(\"This is a valid day of the week!\")\n",
    "        break       \n",
    "else:\n",
    "    print(\"This is not a valid day of the week\")\n"
   ]
  },
  {
   "cell_type": "markdown",
   "metadata": {},
   "source": [
    "### Break Continue Pass in Loops"
   ]
  },
  {
   "cell_type": "code",
   "execution_count": null,
   "metadata": {},
   "outputs": [],
   "source": [
    "for day in days:\n",
    "    print(\"Checking: \", days[day])\n",
    "    if days[day] == today:\n",
    "        print(\"This is a valid day of the week!\")\n",
    "        break       \n",
    "else:\n",
    "    print(\"This is not a valid day of the week\")"
   ]
  },
  {
   "cell_type": "markdown",
   "metadata": {},
   "source": [
    "### Working with Lists"
   ]
  },
  {
   "cell_type": "code",
   "execution_count": null,
   "metadata": {},
   "outputs": [],
   "source": [
    "num_list = [number for number in range(11)]\n",
    "\n",
    "print(num_list)"
   ]
  },
  {
   "cell_type": "code",
   "execution_count": null,
   "metadata": {},
   "outputs": [],
   "source": [
    "squares_list = [number**2 for number in num_list]\n",
    "\n",
    "squares_list"
   ]
  },
  {
   "cell_type": "code",
   "execution_count": null,
   "metadata": {},
   "outputs": [],
   "source": [
    "[car for car in [\"Phantom\",\"Dawn\",\"Wraith\"] \\\n",
    "     if car in [\"Phantom\",\"Maybach\",\"E-class\",\"Dawn\"]]"
   ]
  },
  {
   "cell_type": "code",
   "execution_count": null,
   "metadata": {},
   "outputs": [],
   "source": [
    "bags = [\"handbag\", \"pouch\", \"backpack\", \"duffel bag\"]\n",
    "pockets = [2, 1, 4, 5]\n",
    "zip(bags, pockets)"
   ]
  },
  {
   "cell_type": "code",
   "execution_count": null,
   "metadata": {},
   "outputs": [],
   "source": [
    "list(zip(bags, pockets))"
   ]
  },
  {
   "cell_type": "markdown",
   "metadata": {},
   "source": [
    "### Functions"
   ]
  },
  {
   "cell_type": "code",
   "execution_count": null,
   "metadata": {},
   "outputs": [],
   "source": [
    "def calculate_sum(a, b, c):\n",
    "    result = a + b + c\n",
    "    return result"
   ]
  },
  {
   "cell_type": "code",
   "execution_count": null,
   "metadata": {},
   "outputs": [],
   "source": [
    "res = calculate_sum(3,6,8)\n",
    "res"
   ]
  },
  {
   "cell_type": "code",
   "execution_count": null,
   "metadata": {},
   "outputs": [],
   "source": [
    "#imports mydate.py from the current folder\n",
    "import mydate\n",
    "mydate.getdate()"
   ]
  },
  {
   "cell_type": "code",
   "execution_count": null,
   "metadata": {},
   "outputs": [],
   "source": [
    "import sys \n",
    "sys.path"
   ]
  },
  {
   "cell_type": "code",
   "execution_count": null,
   "metadata": {},
   "outputs": [],
   "source": [
    "# Add src/features folder to sys.path as an absolute path\n",
    "# to import py files from an another folder\n",
    "# then import py as regular\n",
    "import os\n",
    "featurefolder = os.path.join(os.path.abspath('..'),'src','features')\n",
    "if(featurefolder not in sys.path):\n",
    "    sys.path.append(featurefolder)\n",
    "print(sys.path)\n",
    "\n",
    "import datecalculate\n",
    "calculate_sum(3,2,5)"
   ]
  },
  {
   "cell_type": "markdown",
   "metadata": {},
   "source": [
    "### Importing Module"
   ]
  },
  {
   "cell_type": "code",
   "execution_count": null,
   "metadata": {},
   "outputs": [],
   "source": [
    "import math\n",
    "print(math.pi)\n",
    "print(math.e)\n",
    "print(math.inf)\n",
    "print(math.ceil(7.8))\n",
    "print(math.floor(2.9))\n",
    "float_list = [0.1, 0.1, 0.1, 0.1, 0.1, 0.1, 0.1, 0.1, 0.1, 0.1]\n",
    "print(sum(float_list))\n",
    "math.fsum(float_list)\n",
    "\n",
    "print(math.gcd(30, 20))\n",
    "print(math.gcd(3343, 223))"
   ]
  },
  {
   "cell_type": "markdown",
   "metadata": {},
   "source": [
    "### Numpy"
   ]
  },
  {
   "cell_type": "code",
   "execution_count": null,
   "metadata": {},
   "outputs": [],
   "source": [
    "# !pip install numpy\n",
    "import numpy as np\n",
    "some_list = [1, 2, 3, 4, 5, 6, 7]\n",
    "\n",
    "print(type(some_list))\n",
    "\n",
    "# create numpy array from a regular array\n",
    "some_array = np.array(some_list)\n",
    "\n",
    "print(type(some_array))\n",
    "print(some_array)\n",
    "\n",
    "ones_array = np.ones(5)\n",
    "print(ones_array)\n",
    "\n",
    "range_array = np.arange(8)\n",
    "\n",
    "print(range_array)\n",
    "\n",
    "reshaped_array = range_array.reshape(4, 2)\n",
    "print(reshaped_array)\n",
    "\n",
    "random_array = np.random.random((3, 5))\n",
    "print(random_array)\n",
    "\n",
    "\n",
    "mean = np.mean(range_array)\n",
    "print(\"mean\",mean)\n",
    "\n",
    "\n",
    "median = np.median(range_array)\n",
    "print('median',median)\n",
    "\n",
    "\n",
    "# The variance is the average of the squared deviations from the mean, i.e., \n",
    "# var = mean(x), where x = abs(a - a.mean())**2.\n",
    "\n",
    "var = np.var(range_array)\n",
    "print('variance',var)\n",
    "\n",
    "# std = sqrt(mean(x)), where x = abs(a - a.mean())**2.\n",
    "std = np.std(range_array)\n",
    "print('standard deviation',std)\n",
    "\n",
    "\n",
    "# when there are arrays in arays axis is important\n",
    "print(np.std(random_array, axis=1))"
   ]
  },
  {
   "cell_type": "markdown",
   "metadata": {},
   "source": [
    "### Pandas"
   ]
  },
  {
   "cell_type": "code",
   "execution_count": null,
   "metadata": {},
   "outputs": [],
   "source": [
    "import pandas as pd"
   ]
  },
  {
   "cell_type": "code",
   "execution_count": null,
   "metadata": {},
   "outputs": [],
   "source": [
    "df = pd.DataFrame({\n",
    "                    'name': [\"John\", \"Alice\", \"Bob\", \"Eileen\", \"Rob\"],\n",
    "                    'gender': [\"Male\", \"Female\", \"Male\", \"Female\", \"Male\"],\n",
    "                    'age': [45, 20, 30, 14, 67],\n",
    "                  })\n",
    "print(df)\n",
    "print(\" \\n ========= describe =========\")\n",
    "print(df.describe())"
   ]
  },
  {
   "cell_type": "code",
   "execution_count": null,
   "metadata": {},
   "outputs": [],
   "source": [
    "subset_df = df[['name', 'age']]\n",
    "subset_df"
   ]
  },
  {
   "cell_type": "code",
   "execution_count": null,
   "metadata": {},
   "outputs": [],
   "source": [
    "groupby_df = df.groupby(by=\"gender\").count()\n",
    "groupby_df.head()"
   ]
  },
  {
   "cell_type": "markdown",
   "metadata": {},
   "source": [
    "### Environment Variables"
   ]
  },
  {
   "cell_type": "code",
   "execution_count": null,
   "metadata": {},
   "outputs": [],
   "source": [
    "import os\n",
    "os.environ"
   ]
  },
  {
   "cell_type": "code",
   "execution_count": null,
   "metadata": {},
   "outputs": [],
   "source": [
    "os.environ['USERNAME']"
   ]
  },
  {
   "cell_type": "code",
   "execution_count": null,
   "metadata": {},
   "outputs": [],
   "source": [
    "import subprocess\n",
    "# subprocess.call([\"ls\", \"-l\"])"
   ]
  },
  {
   "cell_type": "code",
   "execution_count": null,
   "metadata": {},
   "outputs": [],
   "source": [
    "# output = subprocess.check_output(['ls', '-1'])\n",
    "# print(output)"
   ]
  },
  {
   "cell_type": "code",
   "execution_count": null,
   "metadata": {},
   "outputs": [],
   "source": [
    "from subprocess import Popen, PIPE\n",
    "process = Popen(['cat', 'modules.txt'], stdout=PIPE, stderr=PIPE,  shell=True)\n",
    "stdout, stderr= process.communicate()\n",
    "stdout\n",
    "stderr"
   ]
  },
  {
   "cell_type": "markdown",
   "metadata": {},
   "source": [
    "### Files"
   ]
  },
  {
   "cell_type": "code",
   "execution_count": null,
   "metadata": {},
   "outputs": [],
   "source": [
    "import os\n",
    "os.getcwd()"
   ]
  },
  {
   "cell_type": "code",
   "execution_count": null,
   "metadata": {},
   "outputs": [],
   "source": [
    "# open(\"nosuchfile.txt\")\n",
    "# open(\"/Downloads/nosuchfile.txt\")"
   ]
  },
  {
   "cell_type": "code",
   "execution_count": null,
   "metadata": {},
   "outputs": [],
   "source": [
    "file = open(\"../data/raw/data.txt\")\n",
    "\n",
    "print(file)\n",
    "print(file.read())\n",
    "\n",
    "# Seek stream to beggining\n",
    "file.seek(0)\n",
    "\n",
    "# Read first 5 char\n",
    "print(file.read(2))\n",
    "print(file.read(5))\n",
    "\n",
    "# location on file\n",
    "file.tell()\n",
    "\n",
    "file.close()"
   ]
  },
  {
   "cell_type": "code",
   "execution_count": null,
   "metadata": {},
   "outputs": [],
   "source": [
    "file = open(\"../data/raw/data.txt\", mode='r')\n",
    "print(file.readline())\n",
    "print(file.readline())\n",
    "file.seek(0)\n",
    "print(file.readline())\n",
    "print(file.readline())"
   ]
  },
  {
   "cell_type": "code",
   "execution_count": null,
   "metadata": {},
   "outputs": [],
   "source": []
  },
  {
   "cell_type": "code",
   "execution_count": null,
   "metadata": {},
   "outputs": [],
   "source": [
    "extra_data = [\"Agera\", \"Regera\", \"Chiron\", \"Veyron\"]\n",
    "\n",
    "with open(\"../data/raw/data.txt\", \"a\") as f:\n",
    "    for dat in extra_data:\n",
    "        f.write(dat + \"\\n\")\n",
    "    more_data = f.write(\"Matt\"+ \"\\n\")\n",
    "    \n",
    "    print(\"Number of characters :\", more_data)"
   ]
  },
  {
   "cell_type": "code",
   "execution_count": null,
   "metadata": {},
   "outputs": [],
   "source": [
    "\n",
    "data_specs = []\n",
    "\n",
    "with open ('../data/raw/data.txt', 'r') as file_again:\n",
    "    \n",
    "    for dat in file_again:\n",
    "        data_specs.append(dat.rstrip(\"\\n\"))        \n",
    "data_specs"
   ]
  },
  {
   "cell_type": "markdown",
   "metadata": {},
   "source": [
    "#### JSON"
   ]
  },
  {
   "cell_type": "code",
   "execution_count": null,
   "metadata": {},
   "outputs": [],
   "source": [
    "## Import Json\n",
    "## convert dictionary or an array to a JSON string with json.dumps\n",
    "## Convert JSON string to Array or dictionary by json.loads\n",
    "\n",
    "import json\n",
    "\n",
    "a_json_array =[{'Name':'Oba', 'Age':8.9}, {'Name':'Moje', 'Age':4.5},  {'Name':'Moje', 'Age':4.5}]\n",
    "\n",
    "dogs_and_ages = {\"Oba\" : 8.9, \"Moje\" : 4.5, \"Nemo\" : 1.25}\n",
    "\n",
    "json_string = json.dumps(a_json_array)\n",
    "print(json_string)\n",
    "\n",
    "dogs_and_ages_dict = json.loads(json_string)\n",
    "\n",
    "print(type(dogs_and_ages_dict))\n",
    "print(dogs_and_ages_dict)\n",
    "\n",
    "with open('../data/raw/dogs_and_ages.json', 'w') as dog_file:\n",
    "    json.dump(dogs_and_ages_dict, dog_file)"
   ]
  },
  {
   "cell_type": "code",
   "execution_count": null,
   "metadata": {},
   "outputs": [],
   "source": [
    "os.path.exists('/files')"
   ]
  },
  {
   "cell_type": "code",
   "execution_count": null,
   "metadata": {},
   "outputs": [],
   "source": [
    "os.path.exists('../data/raw/data.txt')"
   ]
  },
  {
   "cell_type": "code",
   "execution_count": null,
   "metadata": {},
   "outputs": [],
   "source": [
    "os.path.isfile('../data/raw')"
   ]
  },
  {
   "cell_type": "code",
   "execution_count": null,
   "metadata": {},
   "outputs": [],
   "source": [
    "os.mkdir('../data/raw/new_dir')\n",
    "\n",
    "!dir \"..\\data\\raw\"\n",
    "\n",
    "os.rmdir('../data/raw/new_dir')\n",
    "\n",
    "!dir \"..\\data\\raw\""
   ]
  },
  {
   "cell_type": "markdown",
   "metadata": {},
   "source": [
    "### lambda"
   ]
  },
  {
   "cell_type": "code",
   "execution_count": null,
   "metadata": {},
   "outputs": [],
   "source": [
    "multiply_by_2 = lambda x: x*2"
   ]
  },
  {
   "cell_type": "code",
   "execution_count": null,
   "metadata": {},
   "outputs": [],
   "source": [
    "multiply_by_2(4)"
   ]
  },
  {
   "cell_type": "code",
   "execution_count": null,
   "metadata": {},
   "outputs": [],
   "source": []
  }
 ],
 "metadata": {
  "kernelspec": {
   "display_name": "Python 3",
   "language": "python",
   "name": "python3"
  },
  "language_info": {
   "codemirror_mode": {
    "name": "ipython",
    "version": 3
   },
   "file_extension": ".py",
   "mimetype": "text/x-python",
   "name": "python",
   "nbconvert_exporter": "python",
   "pygments_lexer": "ipython3",
   "version": "3.8.5"
  }
 },
 "nbformat": 4,
 "nbformat_minor": 4
}
